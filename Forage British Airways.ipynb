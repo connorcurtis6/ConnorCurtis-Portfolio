{
 "cells": [
  {
   "cell_type": "markdown",
   "id": "655e6354-0390-4384-b815-68b395a20593",
   "metadata": {},
   "source": [
    "## British Airways (Forage Job Simulation) Web Scraping and Data Analysis"
   ]
  },
  {
   "cell_type": "markdown",
   "id": "5b7420aa-6d01-4c24-ac14-442ea03e2e44",
   "metadata": {},
   "source": [
    "- Data comes from 3937 British Airways Airline Reviews on Skytrax"
   ]
  },
  {
   "cell_type": "code",
   "execution_count": 78,
   "id": "8648e212-51f4-434f-a9a7-bb7652591152",
   "metadata": {},
   "outputs": [],
   "source": [
    "from bs4 import BeautifulSoup\n",
    "import requests"
   ]
  },
  {
   "cell_type": "code",
   "execution_count": null,
   "id": "73e3f10d-acc5-47ca-afc0-4abfc58cd3f6",
   "metadata": {},
   "outputs": [],
   "source": [
    "seat_comfort = []\n",
    "\n",
    "url_format = 'https://www.airlinequality.com/airline-reviews/british-airways/page/{}/?sortby=post_date%3ADesc&pagesize=100'\n",
    "\n",
    "for page_number in range (1,41):\n",
    "    \n",
    "    url = url_format.format(page_number)\n",
    "    page = requests.get(url)\n",
    "    data = BeautifulSoup(page.text, 'html')\n",
    "    rows = data.find_all('tr')\n",
    "\n",
    "    for row in rows:\n",
    "        \n",
    "        header = row.find('td', class_='review-rating-header seat_comfort')\n",
    "    \n",
    "        if header:\n",
    "            \n",
    "            stars_td = row.find('td', class_='review-rating-stars stars')\n",
    "        \n",
    "            if stars_td:\n",
    "                \n",
    "                filled_stars = len(stars_td.find_all('span', class_='star fill'))\n",
    "                seat_comfort.append(filled_stars)"
   ]
  },
  {
   "cell_type": "code",
   "execution_count": null,
   "id": "2effcc8d-e564-414b-b8ee-a8ccd2c09f83",
   "metadata": {},
   "outputs": [],
   "source": [
    "cabin_staff_service = []\n",
    "\n",
    "url_format = 'https://www.airlinequality.com/airline-reviews/british-airways/page/{}/?sortby=post_date%3ADesc&pagesize=100'\n",
    "\n",
    "for page_number in range (1,41):\n",
    "    \n",
    "    url = url_format.format(page_number)\n",
    "    page = requests.get(url)\n",
    "    data = BeautifulSoup(page.text, 'html')\n",
    "    rows = data.find_all('tr')\n",
    "\n",
    "    for row in rows:\n",
    "        \n",
    "        header = row.find('td', class_='review-rating-header cabin_staff_service')\n",
    "    \n",
    "        if header:\n",
    "            \n",
    "            stars_td = row.find('td', class_='review-rating-stars stars')\n",
    "        \n",
    "            if stars_td:\n",
    "                \n",
    "                filled_stars = len(stars_td.find_all('span', class_='star fill'))\n",
    "                cabin_staff_service.append(filled_stars)"
   ]
  },
  {
   "cell_type": "code",
   "execution_count": null,
   "id": "72a180a3-6045-425b-be68-27f3c6285410",
   "metadata": {},
   "outputs": [],
   "source": [
    "food_and_beverages = []\n",
    "\n",
    "url_format = 'https://www.airlinequality.com/airline-reviews/british-airways/page/{}/?sortby=post_date%3ADesc&pagesize=100'\n",
    "\n",
    "for page_number in range (1,41):\n",
    "    \n",
    "    url = url_format.format(page_number)\n",
    "    page = requests.get(url)\n",
    "    data = BeautifulSoup(page.text, 'html')\n",
    "    rows = data.find_all('tr')\n",
    "\n",
    "    for row in rows:\n",
    "        \n",
    "        header = row.find('td', class_='review-rating-header food_and_beverages')\n",
    "    \n",
    "        if header:\n",
    "            \n",
    "            stars_td = row.find('td', class_='review-rating-stars stars')\n",
    "        \n",
    "            if stars_td:\n",
    "                \n",
    "                filled_stars = len(stars_td.find_all('span', class_='star fill'))\n",
    "                food_and_beverages.append(filled_stars)"
   ]
  },
  {
   "cell_type": "code",
   "execution_count": null,
   "id": "04465526-89a6-447a-9db7-872ef4c97624",
   "metadata": {},
   "outputs": [],
   "source": [
    "inflight_entertainment = []\n",
    "\n",
    "url_format = 'https://www.airlinequality.com/airline-reviews/british-airways/page/{}/?sortby=post_date%3ADesc&pagesize=100'\n",
    "\n",
    "for page_number in range (1,41):\n",
    "    \n",
    "    url = url_format.format(page_number)\n",
    "    page = requests.get(url)\n",
    "    data = BeautifulSoup(page.text, 'html')\n",
    "    rows = data.find_all('tr')\n",
    "\n",
    "    for row in rows:\n",
    "        \n",
    "        header = row.find('td', class_='review-rating-header inflight_entertainment')\n",
    "    \n",
    "        if header:\n",
    "            \n",
    "            stars_td = row.find('td', class_='review-rating-stars stars')\n",
    "        \n",
    "            if stars_td:\n",
    "                \n",
    "                filled_stars = len(stars_td.find_all('span', class_='star fill'))\n",
    "                inflight_entertainment.append(filled_stars)"
   ]
  },
  {
   "cell_type": "code",
   "execution_count": null,
   "id": "55f15c91-1f17-4011-a632-185187617584",
   "metadata": {},
   "outputs": [],
   "source": [
    "ground_service = []\n",
    "\n",
    "url_format = 'https://www.airlinequality.com/airline-reviews/british-airways/page/{}/?sortby=post_date%3ADesc&pagesize=100'\n",
    "\n",
    "for page_number in range (1,41):\n",
    "    \n",
    "    url = url_format.format(page_number)\n",
    "    page = requests.get(url)\n",
    "    data = BeautifulSoup(page.text, 'html')\n",
    "    rows = data.find_all('tr')\n",
    "\n",
    "    for row in rows:\n",
    "        \n",
    "        header = row.find('td', class_='review-rating-header ground_service')\n",
    "    \n",
    "        if header:\n",
    "            \n",
    "            stars_td = row.find('td', class_='review-rating-stars stars')\n",
    "        \n",
    "            if stars_td:\n",
    "                \n",
    "                filled_stars = len(stars_td.find_all('span', class_='star fill'))\n",
    "                ground_service.append(filled_stars)"
   ]
  },
  {
   "cell_type": "code",
   "execution_count": null,
   "id": "080cd9c8-e55e-4b80-bd40-6706e2d5b384",
   "metadata": {},
   "outputs": [],
   "source": [
    "wifi_and_connectivity = []\n",
    "\n",
    "url_format = 'https://www.airlinequality.com/airline-reviews/british-airways/page/{}/?sortby=post_date%3ADesc&pagesize=100'\n",
    "\n",
    "for page_number in range (1,41):\n",
    "    \n",
    "    url = url_format.format(page_number)\n",
    "    page = requests.get(url)\n",
    "    data = BeautifulSoup(page.text, 'html')\n",
    "    rows = data.find_all('tr')\n",
    "\n",
    "    for row in rows:\n",
    "        \n",
    "        header = row.find('td', class_='review-rating-header wifi_and_connectivity')\n",
    "    \n",
    "        if header:\n",
    "            \n",
    "            stars_td = row.find('td', class_='review-rating-stars stars')\n",
    "        \n",
    "            if stars_td:\n",
    "                \n",
    "                filled_stars = len(stars_td.find_all('span', class_='star fill'))\n",
    "                wifi_and_connectivity.append(filled_stars)"
   ]
  },
  {
   "cell_type": "code",
   "execution_count": null,
   "id": "3971180d-7f8a-4736-bf11-d83bafdbfcad",
   "metadata": {},
   "outputs": [],
   "source": [
    "value_for_money = []\n",
    "\n",
    "url_format = 'https://www.airlinequality.com/airline-reviews/british-airways/page/{}/?sortby=post_date%3ADesc&pagesize=100'\n",
    "\n",
    "for page_number in range (1,41):\n",
    "    \n",
    "    url = url_format.format(page_number)\n",
    "    page = requests.get(url)\n",
    "    data = BeautifulSoup(page.text, 'html')\n",
    "    rows = data.find_all('tr')\n",
    "\n",
    "    for row in rows:\n",
    "        \n",
    "        header = row.find('td', class_='review-rating-header value_for_money')\n",
    "    \n",
    "        if header:\n",
    "            \n",
    "            stars_td = row.find('td', class_='review-rating-stars stars')\n",
    "        \n",
    "            if stars_td:\n",
    "                \n",
    "                filled_stars = len(stars_td.find_all('span', class_='star fill'))\n",
    "                value_for_money.append(filled_stars)"
   ]
  },
  {
   "cell_type": "code",
   "execution_count": 100,
   "id": "9733ff60-dcd0-44e2-9199-6c9a9b66d00e",
   "metadata": {},
   "outputs": [
    {
     "name": "stdout",
     "output_type": "stream",
     "text": [
      "2.861154855643045\n",
      "3.235046113306983\n",
      "2.7104434907010013\n",
      "2.6474311243484734\n",
      "2.755425979915776\n",
      "1.9351585014409223\n",
      "2.6616713233426466\n"
     ]
    }
   ],
   "source": [
    "import numpy as np\n",
    "\n",
    "seat_comfort_average = np.mean(seat_comfort)\n",
    "print(seat_comfort_average)\n",
    "\n",
    "cabin_staff_service_average = np.mean(cabin_staff_service)\n",
    "print(cabin_staff_service_average)\n",
    "\n",
    "food_and_beverages_average = np.mean(food_and_beverages)\n",
    "print(food_and_beverages_average)\n",
    "\n",
    "inflight_entertainment_average = np.mean(inflight_entertainment)\n",
    "print(inflight_entertainment_average)\n",
    "\n",
    "ground_service_average = np.mean(ground_service)\n",
    "print(ground_service_average)\n",
    "\n",
    "wifi_and_connectivity_average = np.mean(wifi_and_connectivity)\n",
    "print(wifi_and_connectivity_average)\n",
    "\n",
    "value_for_money_average = np.mean(value_for_money)\n",
    "print(value_for_money_average)\n",
    "\n",
    "ratings_list = [seat_comfort_average, cabin_staff_service_average, food_and_beverages_average, inflight_entertainment_average, \n",
    "                 ground_service_average, wifi_and_connectivity_average, value_for_money_average]"
   ]
  },
  {
   "cell_type": "markdown",
   "id": "e21a59a7-a191-43c2-a955-4e513a9af7be",
   "metadata": {},
   "source": [
    "### Customer Review Ratings of British Airway Airlines (0-5)"
   ]
  },
  {
   "cell_type": "markdown",
   "id": "723da68a-d4cb-4577-a193-49b1c093db31",
   "metadata": {},
   "source": [
    "- Seat Comfort = 2.86\n",
    "- Cabin Staff Service = 3.24\n",
    "- Food & Beverages = 2.71\n",
    "- Inflight Entertainment = 2.65\n",
    "- Ground Service = 2.76\n",
    "- Wifi & Connectivity = 1.94\n",
    "- Value for Money = 2.67"
   ]
  },
  {
   "cell_type": "code",
   "execution_count": 168,
   "id": "20fa22bc-2ca3-40ad-8b7e-e2d40b27426f",
   "metadata": {},
   "outputs": [
    {
     "data": {
      "image/png": "[encoded data removed]",
      "text/plain": [
       "<Figure size 800x600 with 1 Axes>"
      ]
     },
     "metadata": {},
     "output_type": "display_data"
    }
   ],
   "source": [
    "import matplotlib.pyplot as plt\n",
    "import seaborn as sns\n",
    "sns.set_theme()\n",
    "\n",
    "x = np.arange(7)\n",
    "width = 0.5\n",
    "colors = sns.color_palette(\"Blues\", len(values))\n",
    "\n",
    "categories = ['Seat Comfort', 'Cabin Staff Service', 'Food & Beverages', 'Inflight Entertainment',\n",
    "              'Ground Service', 'Wifi & Connectivity', 'Value for Money']\n",
    "\n",
    "values = ratings_list\n",
    "\n",
    "\n",
    "plt.figure(figsize = (8,6))\n",
    "\n",
    "plt.bar(x, values, width, color = colors, edgecolor = 'black')\n",
    "\n",
    "plt.xlabel('Category')\n",
    "plt.ylabel('Rating')\n",
    "plt.title('Ratings of Various Categories for British Airways', fontsize = 15)\n",
    "plt.ylim(0,5)\n",
    "plt.xticks(x, categories, size = 7.35)\n",
    "plt.tight_layout()\n",
    "\n",
    "plt.show()"
   ]
  },
  {
   "cell_type": "code",
   "execution_count": null,
   "id": "85da0922-d1dc-4341-b9fa-f96b82aa42c2",
   "metadata": {},
   "outputs": [],
   "source": []
  }
 ],
 "metadata": {
  "kernelspec": {
   "display_name": "Python [conda env:base] *",
   "language": "python",
   "name": "conda-base-py"
  },
  "language_info": {
   "codemirror_mode": {
    "name": "ipython",
    "version": 3
   },
   "file_extension": ".py",
   "mimetype": "text/x-python",
   "name": "python",
   "nbconvert_exporter": "python",
   "pygments_lexer": "ipython3",
   "version": "3.12.7"
  }
 },
 "nbformat": 4,
 "nbformat_minor": 5
}
